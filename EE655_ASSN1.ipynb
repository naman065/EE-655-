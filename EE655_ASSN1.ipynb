{
  "nbformat": 4,
  "nbformat_minor": 0,
  "metadata": {
    "colab": {
      "provenance": [],
      "gpuType": "T4",
      "authorship_tag": "ABX9TyPzXzgRiEGgKZd/Rj7cMwla",
      "include_colab_link": true
    },
    "kernelspec": {
      "name": "python3",
      "display_name": "Python 3"
    },
    "language_info": {
      "name": "python"
    },
    "accelerator": "GPU"
  },
  "cells": [
    {
      "cell_type": "markdown",
      "metadata": {
        "id": "view-in-github",
        "colab_type": "text"
      },
      "source": [
        "<a href=\"https://colab.research.google.com/github/naman065/EE-655-/blob/main/EE655_ASSN1.ipynb\" target=\"_parent\"><img src=\"https://colab.research.google.com/assets/colab-badge.svg\" alt=\"Open In Colab\"/></a>"
      ]
    },
    {
      "cell_type": "code",
      "execution_count": 1,
      "metadata": {
        "colab": {
          "base_uri": "https://localhost:8080/",
          "height": 0
        },
        "id": "wZek4HRz6Mup",
        "outputId": "3a664dc7-694d-4c31-efdd-73c8f22ac47a"
      },
      "outputs": [
        {
          "output_type": "stream",
          "name": "stdout",
          "text": [
            "Cloning into 'MNIST-JPG'...\n",
            "remote: Enumerating objects: 29, done.\u001b[K\n",
            "remote: Counting objects: 100% (28/28), done.\u001b[K\n",
            "remote: Compressing objects: 100% (19/19), done.\u001b[K\n",
            "remote: Total 29 (delta 7), reused 27 (delta 7), pack-reused 1 (from 1)\u001b[K\n",
            "Receiving objects: 100% (29/29), 17.53 MiB | 8.71 MiB/s, done.\n",
            "Resolving deltas: 100% (7/7), done.\n"
          ]
        }
      ],
      "source": [
        "# Install necessary libraries\n",
        "!pip install -q scikit-image scikit-learn\n",
        "\n",
        "# Download the MNIST-JPG dataset\n",
        "!git clone https://github.com/teavanist/MNIST-JPG.git\n",
        "\n",
        "# Import libraries\n",
        "import os\n",
        "import cv2\n",
        "import numpy as np\n",
        "from skimage.feature import hog\n",
        "from sklearn.model_selection import train_test_split\n",
        "from sklearn.ensemble import RandomForestClassifier\n",
        "from sklearn.metrics import accuracy_score\n"
      ]
    },
    {
      "cell_type": "code",
      "source": [
        "import zipfile\n",
        "\n",
        "# Path to the downloaded zip file\n",
        "zip_path = \"MNIST-JPG/MNIST Dataset JPG format.zip\"\n",
        "\n",
        "# Extract the zip file\n",
        "with zipfile.ZipFile(zip_path, 'r') as zip_ref:\n",
        "    zip_ref.extractall(\"MNIST-JPG\")  # Extract to the MNIST-JPG folder\n",
        "\n"
      ],
      "metadata": {
        "id": "xOUPJE94_D9Y"
      },
      "execution_count": 2,
      "outputs": []
    },
    {
      "cell_type": "code",
      "source": [
        "# Define function to extract HOG features\n",
        "def extract_hog_features(image):\n",
        "    features, _ = hog(image, orientations=9, pixels_per_cell=(8, 8),\n",
        "                      cells_per_block=(3, 3), visualize=True)\n",
        "    return features\n",
        "\n",
        "# Load images and labels\n",
        "def load_data(data_dir):\n",
        "    images, labels = [], []\n",
        "    for label in os.listdir(data_dir):\n",
        "        folder = os.path.join(data_dir, label)\n",
        "        for file in os.listdir(folder):\n",
        "            filepath = os.path.join(folder, file)\n",
        "            img = cv2.imread(filepath, cv2.IMREAD_GRAYSCALE)  # Load as grayscale\n",
        "            img = cv2.resize(img, (28, 28))  # Resize to 28x28\n",
        "            features = extract_hog_features(img)\n",
        "            images.append(features)\n",
        "            labels.append(int(label))\n",
        "    return np.array(images), np.array(labels)\n",
        "\n",
        "#\n",
        "# Extract both training and testing data\n",
        "train_data_dir = \"/content/MNIST-JPG/MNIST Dataset JPG format/MNIST - JPG - training\"  # Training data folder\n",
        "test_data_dir = \"/content/MNIST-JPG/MNIST Dataset JPG format/MNIST - JPG - testing\"    # Testing data folder\n",
        "\n",
        "# Load training data\n",
        "X_train, y_train = load_data(train_data_dir)\n",
        "\n",
        "# Load testing data\n",
        "X_test, y_test = load_data(test_data_dir)\n",
        "\n",
        "# Check dataset shapes\n",
        "print(f\"Training Data: {X_train.shape}, Labels: {y_train.shape}\")\n",
        "print(f\"Testing Data: {X_test.shape}, Labels: {y_test.shape}\")\n",
        "\n"
      ],
      "metadata": {
        "colab": {
          "base_uri": "https://localhost:8080/"
        },
        "id": "xDClO8OT60I5",
        "outputId": "2f229111-d84b-4278-d51c-8f33ae971a1d"
      },
      "execution_count": null,
      "outputs": [
        {
          "output_type": "stream",
          "name": "stdout",
          "text": [
            "Training Data: (60000, 81), Labels: (60000,)\n",
            "Testing Data: (10000, 81), Labels: (10000,)\n"
          ]
        }
      ]
    },
    {
      "cell_type": "code",
      "source": [
        "clf = RandomForestClassifier(n_estimators=100, random_state=42)\n",
        "clf.fit(X_train, y_train)\n",
        "\n",
        "y_pred = clf.predict(X_test)\n",
        "accuracy = accuracy_score(y_test, y_pred)\n",
        "print(f\"Accuracy: {accuracy * 100:.2f}%\")\n"
      ],
      "metadata": {
        "colab": {
          "base_uri": "https://localhost:8080/"
        },
        "id": "Ahq5oIN0CAtQ",
        "outputId": "d663114a-ef5c-43f4-d72c-f457e29d7c8e"
      },
      "execution_count": null,
      "outputs": [
        {
          "output_type": "stream",
          "name": "stdout",
          "text": [
            "Accuracy: 95.39%\n"
          ]
        }
      ]
    },
    {
      "cell_type": "code",
      "source": [
        "from sklearn import svm\n",
        "model = svm.SVC(kernel='linear')\n",
        "model.fit(X_train, y_train)\n",
        "y_pred = model.predict(X_test)\n",
        "accuracy = accuracy_score(y_test, y_pred)\n",
        "print(f\"Accuracy: {accuracy * 100:.2f}%\")"
      ],
      "metadata": {
        "colab": {
          "base_uri": "https://localhost:8080/"
        },
        "id": "EwerxLlVFCQi",
        "outputId": "3e813ffc-a565-4187-a39f-f940fc041212"
      },
      "execution_count": null,
      "outputs": [
        {
          "output_type": "stream",
          "name": "stdout",
          "text": [
            "Accuracy: 95.59%\n"
          ]
        }
      ]
    },
    {
      "cell_type": "code",
      "source": [
        "from sklearn.neighbors import KNeighborsClassifier\n",
        "knn = KNeighborsClassifier()\n",
        "knn.fit(X_train, y_train)\n",
        "y_pred = knn.predict(X_test)\n",
        "accuracy = accuracy_score(y_test, y_pred)\n",
        "print(f\"Accuracy: {accuracy * 100:.2f}%\")"
      ],
      "metadata": {
        "colab": {
          "base_uri": "https://localhost:8080/"
        },
        "id": "XHSNS95pHDbl",
        "outputId": "c268b59f-081c-4eed-9688-c0daffe777fb"
      },
      "execution_count": null,
      "outputs": [
        {
          "output_type": "stream",
          "name": "stdout",
          "text": [
            "Accuracy: 95.85%\n"
          ]
        }
      ]
    },
    {
      "cell_type": "code",
      "source": [
        "import os\n",
        "import cv2\n",
        "import numpy as np\n",
        "\n",
        "# Computing gradients\n",
        "def compute_gradients(image):\n",
        "    # Sobel kernels for gradients\n",
        "    gx_kernel = np.array([[-1, 0, 1], [-2, 0, 2], [-1, 0, 1]])\n",
        "    gy_kernel = np.array([[-1, -2, -1], [0, 0, 0], [1, 2, 1]])\n",
        "\n",
        "    # Convolving the image with kernels\n",
        "    gx = cv2.filter2D(image, -1, gx_kernel)\n",
        "    gy = cv2.filter2D(image, -1, gy_kernel)\n",
        "\n",
        "    # Computing magnitude and angle\n",
        "    magnitude = np.sqrt(gx**2 + gy**2)\n",
        "    angle = np.arctan2(gy, gx) * (180 / np.pi)  # Convert to degrees\n",
        "    angle[angle < 0] += 180  # Make angles positive\n",
        "    return magnitude, angle\n"
      ],
      "metadata": {
        "id": "Yx3_Z-RITwzZ"
      },
      "execution_count": 3,
      "outputs": []
    },
    {
      "cell_type": "code",
      "source": [
        "def extract_hog_features_manual(image, cell_size=8, block_size=3, bins=15):\n",
        "    # Step 1: Computing  gradients\n",
        "    magnitude, angle = compute_gradients(image)\n",
        "\n",
        "    # Step 2: Dividing the image into cells\n",
        "    h, w = image.shape\n",
        "    cell_rows, cell_cols = h // cell_size, w // cell_size\n",
        "    histograms = np.zeros((cell_rows, cell_cols, bins))\n",
        "\n",
        "    for i in range(cell_rows):\n",
        "        for j in range(cell_cols):\n",
        "            # Extracting a cell\n",
        "            cell_magnitude = magnitude[i * cell_size:(i + 1) * cell_size, j * cell_size:(j + 1) * cell_size]\n",
        "            cell_angle = angle[i * cell_size:(i + 1) * cell_size, j * cell_size:(j + 1) * cell_size]\n",
        "\n",
        "            # Creating histogram\n",
        "            hist = np.zeros(bins)\n",
        "            bin_width = 180 // bins\n",
        "\n",
        "            for row in range(cell_size):\n",
        "                for col in range(cell_size):\n",
        "                    mag = cell_magnitude[row, col]\n",
        "                    ang = cell_angle[row, col]\n",
        "\n",
        "                    # Determine the bin\n",
        "                    bin_idx = int(ang // bin_width) % bins\n",
        "                    hist[bin_idx] += mag\n",
        "\n",
        "            histograms[i, j] = hist\n",
        "\n",
        "\n",
        "    block_stride = cell_size\n",
        "    blocks = []\n",
        "    for i in range(cell_rows - block_size + 1):\n",
        "        for j in range(cell_cols - block_size + 1):\n",
        "            block = histograms[i:i + block_size, j:j + block_size].ravel()\n",
        "            block /= np.sqrt(np.sum(block ** 2) + 1e-6)\n",
        "            blocks.append(block)\n",
        "\n",
        "    return np.hstack(blocks)\n"
      ],
      "metadata": {
        "id": "M2E1cZS_URvv"
      },
      "execution_count": 10,
      "outputs": []
    },
    {
      "cell_type": "code",
      "source": [
        "# Load images and labels\n",
        "def load_data(data_dir):\n",
        "    images, labels = [], []\n",
        "    for label in os.listdir(data_dir):\n",
        "        folder = os.path.join(data_dir, label)\n",
        "        for file in os.listdir(folder):\n",
        "            filepath = os.path.join(folder, file)\n",
        "            img = cv2.imread(filepath, cv2.IMREAD_GRAYSCALE)  # Load as grayscale\n",
        "            img = cv2.resize(img, (28, 28))  # Resize to 28x28\n",
        "            features = extract_hog_features_manual(img)\n",
        "            images.append(features)\n",
        "            labels.append(int(label))\n",
        "    return np.array(images), np.array(labels)\n",
        "\n",
        "#\n",
        "# Extract both training and testing data\n",
        "train_data_dir = \"/content/MNIST-JPG/MNIST Dataset JPG format/MNIST - JPG - training\"  # Training data folder\n",
        "test_data_dir = \"/content/MNIST-JPG/MNIST Dataset JPG format/MNIST - JPG - testing\"    # Testing data folder\n",
        "\n",
        "# Load training data\n",
        "X_train, y_train = load_data(train_data_dir)\n",
        "\n",
        "# Load testing data\n",
        "X_test, y_test = load_data(test_data_dir)\n",
        "\n",
        "# Check dataset shapes\n",
        "print(f\"Training Data: {X_train.shape}, Labels: {y_train.shape}\")\n",
        "print(f\"Testing Data: {X_test.shape}, Labels: {y_test.shape}\")"
      ],
      "metadata": {
        "colab": {
          "base_uri": "https://localhost:8080/"
        },
        "id": "tX55iWdjVLDH",
        "outputId": "d4a6b74b-f55c-407e-ec42-d7f7fffd8635"
      },
      "execution_count": 11,
      "outputs": [
        {
          "output_type": "stream",
          "name": "stdout",
          "text": [
            "Training Data: (60000, 135), Labels: (60000,)\n",
            "Testing Data: (10000, 135), Labels: (10000,)\n"
          ]
        }
      ]
    },
    {
      "cell_type": "code",
      "source": [
        "\n",
        "clf = RandomForestClassifier(n_estimators=100, random_state=42)\n",
        "clf.fit(X_train, y_train)\n",
        "\n",
        "y_pred = clf.predict(X_test)\n",
        "accuracy = accuracy_score(y_test, y_pred)\n",
        "print(f\"Accuracy: {accuracy * 100:.2f}%\")\n"
      ],
      "metadata": {
        "colab": {
          "base_uri": "https://localhost:8080/"
        },
        "outputId": "d493f39b-721b-492a-df86-bd1ddb940f25",
        "id": "E5YwEkGbV_-6"
      },
      "execution_count": 12,
      "outputs": [
        {
          "output_type": "stream",
          "name": "stdout",
          "text": [
            "Accuracy: 78.15%\n"
          ]
        }
      ]
    },
    {
      "cell_type": "code",
      "source": [
        "from sklearn.neighbors import KNeighborsClassifier\n",
        "knn = KNeighborsClassifier()\n",
        "knn.fit(X_train, y_train)\n",
        "y_pred = knn.predict(X_test)\n",
        "accuracy = accuracy_score(y_test, y_pred)\n",
        "print(f\"Accuracy: {accuracy * 100:.2f}%\")"
      ],
      "metadata": {
        "colab": {
          "base_uri": "https://localhost:8080/"
        },
        "outputId": "5daec59f-750f-40a7-befc-b3146fb02817",
        "id": "8zQ-VOZTV3G6"
      },
      "execution_count": 13,
      "outputs": [
        {
          "output_type": "stream",
          "name": "stdout",
          "text": [
            "Accuracy: 76.54%\n"
          ]
        }
      ]
    },
    {
      "cell_type": "code",
      "source": [
        "from sklearn import svm\n",
        "model = svm.SVC(kernel='linear')\n",
        "model.fit(X_train, y_train)\n",
        "y_pred = model.predict(X_test)\n",
        "accuracy = accuracy_score(y_test, y_pred)\n",
        "print(f\"Accuracy: {accuracy * 100:.2f}%\")"
      ],
      "metadata": {
        "colab": {
          "base_uri": "https://localhost:8080/"
        },
        "outputId": "80351569-7a5f-498a-a211-ae87ae4e515b",
        "id": "JikztjTxVxjy"
      },
      "execution_count": 14,
      "outputs": [
        {
          "output_type": "stream",
          "name": "stdout",
          "text": [
            "Accuracy: 80.80%\n"
          ]
        }
      ]
    },
    {
      "cell_type": "code",
      "source": [
        "from skimage.feature import hog\n",
        "import matplotlib.pyplot as plt\n",
        "\n",
        "# Updated HOG feature extraction function\n",
        "def extract_hog_with_visualization(image):\n",
        "    features, hog_image = hog(\n",
        "        image,\n",
        "        orientations=9,\n",
        "        pixels_per_cell=(8, 8),\n",
        "        cells_per_block=(2, 2),\n",
        "        visualize=True,\n",
        "\n",
        "    )\n",
        "    return features, hog_image\n"
      ],
      "metadata": {
        "id": "VaT4cgw5X69B"
      },
      "execution_count": 17,
      "outputs": []
    },
    {
      "cell_type": "code",
      "source": [
        "# Load a sample image (e.g., the first image from the training set)\n",
        "sample_image_path = os.path.join(train_data_dir, os.listdir(train_data_dir)[1], os.listdir(os.path.join(train_data_dir, os.listdir(train_data_dir)[1]))[1])\n",
        "sample_image = cv2.imread(sample_image_path, cv2.IMREAD_GRAYSCALE)\n",
        "sample_image = cv2.resize(sample_image, (28, 28))  # Resize to 28x28\n",
        "\n",
        "# Extract HOG features and visualization\n",
        "_, hog_visualization = extract_hog_with_visualization(sample_image)\n",
        "\n",
        "# Display the original and HOG visualization side by side\n",
        "plt.figure(figsize=(10, 5))\n",
        "plt.subplot(1, 2, 1)\n",
        "plt.title(\"Original Image\")\n",
        "plt.imshow(sample_image, cmap=\"gray\")\n",
        "plt.axis(\"off\")\n",
        "\n",
        "plt.subplot(1, 2, 2)\n",
        "plt.title(\"HOG Features\")\n",
        "plt.imshow(hog_visualization, cmap=\"gray\")\n",
        "plt.axis(\"off\")\n",
        "\n",
        "plt.show()\n"
      ],
      "metadata": {
        "colab": {
          "base_uri": "https://localhost:8080/",
          "height": 411
        },
        "id": "UbDQ6bNnYFfJ",
        "outputId": "c1e0342b-441a-46d7-de23-88e4e695376e"
      },
      "execution_count": 28,
      "outputs": [
        {
          "output_type": "display_data",
          "data": {
            "text/plain": [
              "<Figure size 1000x500 with 2 Axes>"
            ],
            "image/png": "[encoded data removed]"
          },
          "metadata": {}
        }
      ]
    }
  ]
}